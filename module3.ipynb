{
 "cells": [
  {
   "cell_type": "code",
   "execution_count": 2,
   "id": "63b21b4b-938c-42a5-a092-9fb84dafe06f",
   "metadata": {},
   "outputs": [
    {
     "name": "stdout",
     "output_type": "stream",
     "text": [
      "   Year Team        RS        RA         W       OBP       SLG      BA\n",
      "0  2012  ARI  0.496337  0.342314  0.539474  0.531250  0.615789  0.5625\n",
      "1  2012  ATL  0.434066  0.202853  0.710526  0.447917  0.463158  0.4125\n",
      "2  2012  BAL  0.456044  0.369255  0.697368  0.354167  0.610526  0.4125\n",
      "3  2012  BOS  0.496337  0.529319  0.381579  0.395833  0.600000  0.5750\n",
      "4  2012  CHC  0.274725  0.454834  0.276316  0.260417  0.405263  0.3250\n"
     ]
    }
   ],
   "source": [
    "import pandas as pd\n",
    "from sklearn.preprocessing import MinMaxScaler\n",
    "from scipy.spatial.distance import cdist\n",
    "\n",
    "# Load the dataset\n",
    "data = pd.read_csv(\"baseball.csv\")\n",
    "\n",
    "# Select relevant columns for analysis and create a copy\n",
    "features = [\"RS\", \"RA\", \"W\", \"OBP\", \"SLG\", \"BA\"]\n",
    "data_filtered = data[[\"Year\", \"Team\"] + features].copy()\n",
    "\n",
    "# Ensure the features columns are cast to float64\n",
    "data_filtered[features] = data_filtered[features].astype(float)\n",
    "\n",
    "# Normalize the data\n",
    "scaler = MinMaxScaler()\n",
    "data_filtered.loc[:, features] = scaler.fit_transform(data_filtered[features])\n",
    "\n",
    "# Display the first few rows of the processed dataset\n",
    "print(data_filtered.head())"
   ]
  },
  {
   "cell_type": "code",
   "execution_count": 3,
   "id": "25226f58-18e8-4ea1-8443-5ea6fed28275",
   "metadata": {},
   "outputs": [
    {
     "name": "stdout",
     "output_type": "stream",
     "text": [
      "Top 10 similar teams for 2001 SEA:\n",
      "     Year Team  Distance\n",
      "439  1998  NYY  0.262486\n",
      "432  1998  HOU  0.481409\n",
      "468  1997  NYY  0.506466\n",
      "153  2007  BOS  0.559188\n",
      "930  1976  CIN  0.563701\n",
      "319  2002  NYY  0.614564\n",
      "198  2006  NYY  0.630325\n",
      "409  1999  NYY  0.630716\n",
      "124  2008  CHC  0.649625\n",
      "108  2009  NYY  0.649731\n",
      "\n",
      "\n",
      "Top 10 similar teams for 2004 BOS:\n",
      "     Year Team  Distance\n",
      "385  2000  SFG  0.161228\n",
      "198  2006  NYY  0.176186\n",
      "108  2009  NYY  0.216745\n",
      "504  1996  TEX  0.254476\n",
      "485  1996  CLE  0.267277\n",
      "366  2000  CHW  0.307300\n",
      "409  1999  NYY  0.310881\n",
      "168  2007  NYY  0.311562\n",
      "\n",
      "\n",
      "Top 10 similar teams for 2011 STL:\n",
      "     Year Team  Distance\n",
      "651  1988  MIN  0.094317\n",
      "784  1983  NYY  0.134278\n",
      "76   2010  MIN  0.136500\n",
      "263  2004  SDP  0.139376\n",
      "87   2010  TEX  0.154040\n",
      "138  2008  NYY  0.164019\n",
      "767  1984  TOR  0.166694\n",
      "193  2006  LAA  0.169292\n",
      "66   2010  CIN  0.177178\n",
      "\n",
      "\n"
     ]
    }
   ],
   "source": [
    "# Define the query teams using abbreviations\n",
    "query_teams = {\n",
    "    \"2001 SEA\": data_filtered[(data_filtered[\"Year\"] == 2001) & (data_filtered[\"Team\"] == \"SEA\")],\n",
    "    \"2004 BOS\": data_filtered[(data_filtered[\"Year\"] == 2004) & (data_filtered[\"Team\"] == \"BOS\")],\n",
    "    \"2011 STL\": data_filtered[(data_filtered[\"Year\"] == 2011) & (data_filtered[\"Team\"] == \"STL\")]\n",
    "}\n",
    "\n",
    "# Find top 10 similar teams for each query team\n",
    "results = {}\n",
    "for team_name, query in query_teams.items():\n",
    "    if query.empty:\n",
    "        print(f\"Warning: No data found for {team_name}. Skipping...\")\n",
    "        continue\n",
    "\n",
    "    query_features = query[features].values\n",
    "    distances = cdist(query_features, data_filtered[features].values, metric=\"cityblock\")  # Manhattan distance\n",
    "    data_filtered.loc[:, \"Distance\"] = distances.flatten()  # Fixed assignment\n",
    "\n",
    "    similar_teams = (\n",
    "        data_filtered.sort_values(\"Distance\")\n",
    "        .head(11)  # Including the query team itself\n",
    "        .loc[data_filtered[\"Team\"] != query[\"Team\"].values[0]]  # Exclude the query team from results\n",
    "    )\n",
    "    results[team_name] = similar_teams[[\"Year\", \"Team\", \"Distance\"]].head(10)\n",
    "\n",
    "# Print rankings\n",
    "for query_team, similar_teams in results.items():\n",
    "    print(f\"Top 10 similar teams for {query_team}:\")\n",
    "    print(similar_teams)\n",
    "    print(\"\\n\")"
   ]
  },
  {
   "cell_type": "code",
   "execution_count": null,
   "id": "96e96747-6089-4380-b5d1-4862b78b529e",
   "metadata": {},
   "outputs": [],
   "source": []
  }
 ],
 "metadata": {
  "kernelspec": {
   "display_name": "Python 3 (ipykernel)",
   "language": "python",
   "name": "python3"
  },
  "language_info": {
   "codemirror_mode": {
    "name": "ipython",
    "version": 3
   },
   "file_extension": ".py",
   "mimetype": "text/x-python",
   "name": "python",
   "nbconvert_exporter": "python",
   "pygments_lexer": "ipython3",
   "version": "3.12.5"
  }
 },
 "nbformat": 4,
 "nbformat_minor": 5
}
